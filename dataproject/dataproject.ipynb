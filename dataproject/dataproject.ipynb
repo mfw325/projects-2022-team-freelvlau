{
 "cells": [
  {
   "cell_type": "markdown",
   "metadata": {
    "tags": []
   },
   "source": [
    "# Introduction to Programming and Numerical Analysis - Spring 2022 - Project 1: Data analysis"
   ]
  },
  {
   "cell_type": "markdown",
   "metadata": {},
   "source": [
    "## The relationship between per capita GDP and per capita emissions of the greenhouse gas carbon dioxide (CO2)"
   ]
  },
  {
   "cell_type": "markdown",
   "metadata": {},
   "source": [
    "In this project we fetch yearly data from the World Bank, GDP (per capita) and CO2 emission (per capita) and use them to perform a descriptive analysis of link between economic growth and CO2 emission from 1998 to today. \n",
    "\n",
    "The objective of this study is to investigate, if there is a relationship\n",
    "between economic growth and carbon dioxide (𝐶𝑂2) emissions. Will a richer economy\n",
    "worsen the environmental quality even further due to increased emissions, or will an increase in per capita GDP not only increase the living standards but also contribute to a better, less polluted planet?\n",
    "\n",
    "First, we read and clean the data. Next, we use the concatenate and join functions to compile the data in a single DataFrame. Then, we compute log returns and analyse these through descriptive statistics and (interactive) visualisations. Finally, we account for some real world events, which can be drivers of increased volatility in given periods."
   ]
  },
  {
   "cell_type": "markdown",
   "metadata": {},
   "source": [
    "**Imports and set magics:**"
   ]
  },
  {
   "cell_type": "code",
   "execution_count": 87,
   "metadata": {},
   "outputs": [
    {
     "name": "stdout",
     "output_type": "stream",
     "text": [
      "The autoreload extension is already loaded. To reload it, use:\n",
      "  %reload_ext autoreload\n"
     ]
    }
   ],
   "source": [
    "import pandas as pd\n",
    "import numpy as np\n",
    "import matplotlib.pyplot as plt\n",
    "import ipywidgets as widgets\n",
    "from matplotlib_venn import venn2\n",
    "from pandas_datareader import wb\n",
    "\n",
    "# autoreload modules when code is run\n",
    "%load_ext autoreload\n",
    "%autoreload 2\n",
    "\n",
    "# user written modules\n",
    "import dataproject"
   ]
  },
  {
   "cell_type": "markdown",
   "metadata": {},
   "source": [
    "# Importing and cleaning data from the World Bank"
   ]
  },
  {
   "cell_type": "markdown",
   "metadata": {},
   "source": [
    "We begin with importing the data for CO2 emission for high income, middle income and low income countries."
   ]
  },
  {
   "cell_type": "code",
   "execution_count": 99,
   "metadata": {},
   "outputs": [
    {
     "name": "stderr",
     "output_type": "stream",
     "text": [
      "C:\\Users\\laura\\anaconda3\\lib\\site-packages\\pandas_datareader\\wb.py:592: UserWarning: Non-standard ISO country codes: HIC, LIC, LMC, LMY, MIC, UMC\n",
      "  warnings.warn(\n"
     ]
    }
   ],
   "source": [
    "# First we import CO2 emission data from World Bank:\n",
    "wb_co2 = wb.download(indicator='EN.ATM.CO2E.KT', country=['HIC', 'LMC', 'LMY', 'UMC','MIC','LIC'], start=1998, end=2018)\n",
    "wb_co2 = wb_co2.rename(columns = {'EN.ATM.CO2E.KT':'CO2 emissions'})\n",
    "wb_co2 = wb_co2.reset_index()\n",
    "\n",
    "# Then we import GDP data from the World Bank:\n",
    "wb_gdp = wb.download(indicator='NY.GDP.PCAP.KD', country=['HIC', 'LMC', 'LMY', 'UMC','MIC','LIC'], start=1998, end=2018)\n",
    "wb_gdp = wb_gdp.rename(columns = {'NY.GDP.PCAP.KD':'GDP'})\n",
    "wb_gdp = wb_gdp.reset_index()"
   ]
  },
  {
   "cell_type": "code",
   "execution_count": 101,
   "metadata": {},
   "outputs": [],
   "source": [
    "# As the variables are treated uncorrect, we are convert year and countries to the special panda string. \n",
    "wb_gdp.year = wb_gdp.year.astype(int) # convert year\n",
    "wb_gdp.country = wb_gdp.country.astype('string') # convert country to the special pandas string type\n",
    "wb_co2.year = wb_co2.year.astype(int) # convert year\n",
    "wb_co2.country = wb_co2.country.astype('string') # convert country to the special pandas string type\n",
    "\n",
    "# We now see that country is now a string variable and year is now treated as an integer. \n",
    "wb_gdp.info()\n",
    "wb_co2.info()"
   ]
  },
  {
   "cell_type": "markdown",
   "metadata": {},
   "source": [
    "We now merge the two dataset together by year and income level. We do this by the method 'inner' join, which means that only the matched years and countries in each dataset is moved to the merged dataset."
   ]
  },
  {
   "cell_type": "code",
   "execution_count": 111,
   "metadata": {},
   "outputs": [
    {
     "data": {
      "image/png": "[encoded data removed]",
      "text/plain": [
       "<Figure size 432x288 with 1 Axes>"
      ]
     },
     "metadata": {},
     "output_type": "display_data"
    }
   ],
   "source": [
    "merged = pd.merge(wb_gdp,wb_co2, how='inner', on=['year','country'])\n",
    "data = merged.sort_values(['country','year']) # sort by first municipality then year\n",
    "\n",
    "# venn diagram\n",
    "\n",
    "plt.figure()\n",
    "v = venn2(subsets = (4, 4, 10), set_labels = ('wb_gdp', 'wb_co2'))\n",
    "v.get_label_by_id('100').set_text('included')\n",
    "v.get_label_by_id('010').set_text('included')\n",
    "v.get_label_by_id('110').set_text('included')\n",
    "plt.title('Inner join')\n",
    "plt.show()"
   ]
  },
  {
   "cell_type": "markdown",
   "metadata": {},
   "source": [
    "## Summary Statistics of the CO2 emission "
   ]
  },
  {
   "cell_type": "code",
   "execution_count": 114,
   "metadata": {},
   "outputs": [
    {
     "ename": "NameError",
     "evalue": "name 'stock_indices' is not defined",
     "output_type": "error",
     "traceback": [
      "\u001b[1;31m---------------------------------------------------------------------------\u001b[0m",
      "\u001b[1;31mNameError\u001b[0m                                 Traceback (most recent call last)",
      "\u001b[1;32m~\\AppData\\Local\\Temp/ipykernel_20060/3249554818.py\u001b[0m in \u001b[0;36m<module>\u001b[1;34m\u001b[0m\n\u001b[0;32m      2\u001b[0m \u001b[1;33m\u001b[0m\u001b[0m\n\u001b[0;32m      3\u001b[0m \u001b[1;31m#  extract year/month variable from datetime variable for statistics\u001b[0m\u001b[1;33m\u001b[0m\u001b[1;33m\u001b[0m\u001b[0m\n\u001b[1;32m----> 4\u001b[1;33m \u001b[0mstock_indices\u001b[0m\u001b[1;33m[\u001b[0m\u001b[1;34m'year'\u001b[0m\u001b[1;33m]\u001b[0m\u001b[1;33m,\u001b[0m \u001b[0mstock_indices\u001b[0m\u001b[1;33m[\u001b[0m\u001b[1;34m'month'\u001b[0m\u001b[1;33m]\u001b[0m \u001b[1;33m=\u001b[0m \u001b[0mstock_indices\u001b[0m\u001b[1;33m[\u001b[0m\u001b[1;34m'date'\u001b[0m\u001b[1;33m]\u001b[0m\u001b[1;33m.\u001b[0m\u001b[0mdt\u001b[0m\u001b[1;33m.\u001b[0m\u001b[0myear\u001b[0m\u001b[1;33m,\u001b[0m \u001b[0mstock_indices\u001b[0m\u001b[1;33m[\u001b[0m\u001b[1;34m'date'\u001b[0m\u001b[1;33m]\u001b[0m\u001b[1;33m.\u001b[0m\u001b[0mdt\u001b[0m\u001b[1;33m.\u001b[0m\u001b[0mmonth\u001b[0m\u001b[1;33m\u001b[0m\u001b[1;33m\u001b[0m\u001b[0m\n\u001b[0m\u001b[0;32m      5\u001b[0m \u001b[1;33m\u001b[0m\u001b[0m\n\u001b[0;32m      6\u001b[0m \u001b[1;31m# setup empty DataFrame\u001b[0m\u001b[1;33m\u001b[0m\u001b[1;33m\u001b[0m\u001b[0m\n",
      "\u001b[1;31mNameError\u001b[0m: name 'stock_indices' is not defined"
     ]
    }
   ],
   "source": [
    "# DataFrames with descriptive stats by year and income level\n",
    "\n",
    "#  extract year/month variable from datetime variable for statistics\n",
    "stock_indices['year'], stock_indices['month'] = stock_indices['date'].dt.year, stock_indices['date'].dt.month\n",
    "\n",
    "# setup empty DataFrame\n",
    "desc_stat_y = pd.DataFrame()\n",
    "desc_stat_m = pd.DataFrame()\n",
    "\n",
    "# append columns to desc_stat\n",
    "for i in indices:\n",
    "    desc_stat_y[f'mean_{i}']= stock_indices.groupby('year')[f'log_returns_{i}'].mean()\n",
    "    desc_stat_y[f'std_{i}'] = stock_indices.groupby('year')[f'log_returns_{i}'].std()\n",
    "    desc_stat_y[f'min_{i}'] = stock_indices.groupby('year')[f'log_returns_{i}'].min()\n",
    "    desc_stat_y[f'max_{i}'] = stock_indices.groupby('year')[f'log_returns_{i}'].max()\n",
    "\n",
    "for i in indices:\n",
    "    desc_stat_m[f'mean_{i}']= stock_indices.groupby('month')[f'log_returns_{i}'].mean()\n",
    "    desc_stat_m[f'std_{i}'] = stock_indices.groupby('month')[f'log_returns_{i}'].std()\n",
    "    desc_stat_m[f'min_{i}'] = stock_indices.groupby('month')[f'log_returns_{i}'].min()\n",
    "    desc_stat_m[f'max_{i}'] = stock_indices.groupby('month')[f'log_returns_{i}'].max()\n",
    "    \n",
    "desc_stat_y"
   ]
  },
  {
   "cell_type": "markdown",
   "metadata": {
    "tags": []
   },
   "source": [
    "## Further investigation of the correlation between GDP and CO2 emission:"
   ]
  },
  {
   "cell_type": "markdown",
   "metadata": {},
   "source": [
    "We now want to explore, if there is an different correlation between GDP and CO2 emission for high, middle and low income countries. By looking at the correlation of GDP and CO2 emission for income level in 2018, we see that there is difference. "
   ]
  },
  {
   "cell_type": "code",
   "execution_count": 112,
   "metadata": {},
   "outputs": [
    {
     "name": "stdout",
     "output_type": "stream",
     "text": [
      "                   year       GDP  CO2 emissions\n",
      "year           1.000000  0.086723       0.303610\n",
      "GDP            0.086723  1.000000       0.303371\n",
      "CO2 emissions  0.303610  0.303371       1.000000\n"
     ]
    }
   ],
   "source": [
    "print(merged.corr())"
   ]
  },
  {
   "cell_type": "markdown",
   "metadata": {},
   "source": [
    "We now want to investiage the correlation further, which we do by looking at the decvelopment of the correlation. This is done by an interactive term, where each income level has an bubble which moves over time."
   ]
  },
  {
   "cell_type": "markdown",
   "metadata": {},
   "source": [
    "**Interactive plot** :"
   ]
  },
  {
   "cell_type": "code",
   "execution_count": 14,
   "metadata": {},
   "outputs": [
    {
     "data": {
      "application/vnd.jupyter.widget-view+json": {
       "model_id": "78941d67abf842f781f32ed64ba22af0",
       "version_major": 2,
       "version_minor": 0
      },
      "text/plain": [
       "interactive(children=(Output(),), _dom_classes=('widget-interact',))"
      ]
     },
     "metadata": {},
     "output_type": "display_data"
    }
   ],
   "source": []
  },
  {
   "cell_type": "markdown",
   "metadata": {},
   "source": [
    "Explain what you see when moving elements of the interactive plot around. "
   ]
  },
  {
   "cell_type": "markdown",
   "metadata": {},
   "source": [
    "# Analysis"
   ]
  },
  {
   "cell_type": "markdown",
   "metadata": {},
   "source": [
    "We can now look at some specefic countries and see how the different indicators affect the CO2 emission. By looking at countries that are leading within the green transaction, it might show that the CO2 emission is controlled by other indicators than GDP. "
   ]
  },
  {
   "cell_type": "markdown",
   "metadata": {},
   "source": []
  },
  {
   "cell_type": "markdown",
   "metadata": {},
   "source": [
    "# Conclusion"
   ]
  },
  {
   "cell_type": "markdown",
   "metadata": {},
   "source": [
    "ADD CONCISE CONLUSION."
   ]
  }
 ],
 "metadata": {
  "kernelspec": {
   "display_name": "Python 3 (ipykernel)",
   "language": "python",
   "name": "python3"
  },
  "language_info": {
   "codemirror_mode": {
    "name": "ipython",
    "version": 3
   },
   "file_extension": ".py",
   "mimetype": "text/x-python",
   "name": "python",
   "nbconvert_exporter": "python",
   "pygments_lexer": "ipython3",
   "version": "3.9.7"
  },
  "toc-autonumbering": true
 },
 "nbformat": 4,
 "nbformat_minor": 4
}
